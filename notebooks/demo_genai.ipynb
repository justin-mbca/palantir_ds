{
 "cells": [
  {
   "cell_type": "markdown",
   "id": "19489159",
   "metadata": {},
   "source": [
    "# GenAI Demo\n",
    "This notebook demonstrates the GenAI pipeline for defect report analysis."
   ]
  },
  {
   "cell_type": "code",
   "execution_count": 1,
   "id": "dd96947c",
   "metadata": {},
   "outputs": [
    {
     "name": "stdout",
     "output_type": "stream",
     "text": [
      "No entities found.\n",
      "No entities found.\n"
     ]
    }
   ],
   "source": [
    "import sys\n",
    "import os\n",
    "sys.path.append(os.path.abspath(\"..\"))\n",
    "from src.genai_module import GenAIPipeline\n",
    "texts = [\"Defect: model drift detected\", \"Defect: data missing\"]\n",
    "genai = GenAIPipeline()\n",
    "insights = genai.analyze(texts)\n",
    "for insight in insights:\n",
    "    print(insight)"
   ]
  },
  {
   "cell_type": "code",
   "execution_count": 2,
   "id": "4f9fe2ec",
   "metadata": {},
   "outputs": [
    {
     "name": "stdout",
     "output_type": "stream",
     "text": [
      "Triaged (Low): Defect: model drift detected\n",
      "Triaged (High): Defect: data missing\n"
     ]
    }
   ],
   "source": [
    "from src.defect_triage import DefectTriager\n",
    "triager = DefectTriager()\n",
    "triage_results = triager.triage(texts)\n",
    "for result in triage_results:\n",
    "    print(result)"
   ]
  }
 ],
 "metadata": {
  "kernelspec": {
   "display_name": "Python 3 (ipykernel)",
   "language": "python",
   "name": "python3"
  },
  "language_info": {
   "codemirror_mode": {
    "name": "ipython",
    "version": 3
   },
   "file_extension": ".py",
   "mimetype": "text/x-python",
   "name": "python",
   "nbconvert_exporter": "python",
   "pygments_lexer": "ipython3",
   "version": "3.13.6"
  }
 },
 "nbformat": 4,
 "nbformat_minor": 5
}
