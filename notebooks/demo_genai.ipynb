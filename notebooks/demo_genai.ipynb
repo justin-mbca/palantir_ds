{
 "cells": [
  {
   "cell_type": "markdown",
   "id": "19489159",
   "metadata": {},
   "source": [
    "# GenAI Demo\n",
    "This notebook demonstrates the GenAI pipeline for defect report analysis."
   ]
  },
  {
   "cell_type": "code",
   "execution_count": null,
   "id": "dd96947c",
   "metadata": {},
   "outputs": [],
   "source": [
    "from src.genai_module import GenAIPipeline\n",
    "texts = [\"Defect: model drift detected\", \"Defect: data missing\"]\n",
    "genai = GenAIPipeline()\n",
    "insights = genai.analyze(texts)\n",
    "for insight in insights:\n",
    "    print(insight)"
   ]
  }
 ],
 "metadata": {
  "language_info": {
   "name": "python"
  }
 },
 "nbformat": 4,
 "nbformat_minor": 5
}
